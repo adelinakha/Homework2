{
 "cells": [
  {
   "cell_type": "markdown",
   "id": "4d98dd08",
   "metadata": {},
   "source": [
    "Задание 1."
   ]
  },
  {
   "cell_type": "code",
   "execution_count": 5,
   "id": "404339b7",
   "metadata": {},
   "outputs": [
    {
     "name": "stdout",
     "output_type": "stream",
     "text": [
      "The Moscow Times: 2002-10-02\n",
      "The Guardian: 2013-10-11\n",
      "Daily News: 1977-08-18\n"
     ]
    }
   ],
   "source": [
    "from datetime import datetime\n",
    "\n",
    "moscow_times_date_str = \"Wednesday, October 2, 2002\"\n",
    "guardian_date_str = \"Friday, 11.10.13\"\n",
    "daily_news_date_str = \"Thursday, 18 August 1977\"\n",
    "\n",
    "moscow_times_date = datetime.strptime(moscow_times_date_str, \"%A, %B %d, %Y\")\n",
    "guardian_date = datetime.strptime(guardian_date_str,  \"%A, %d.%m.%y\")\n",
    "daily_news_date = datetime.strptime(daily_news_date_str, \"%A, %d %B %Y\")\n",
    "\n",
    "print(\"The Moscow Times:\", moscow_times_date.strftime(\"%Y-%m-%d\"))\n",
    "print(\"The Guardian:\", guardian_date.strftime(\"%Y-%m-%d\"))\n",
    "print(\"Daily News:\", daily_news_date.strftime(\"%Y-%m-%d\"))"
   ]
  },
  {
   "cell_type": "markdown",
   "id": "c401c0e6",
   "metadata": {},
   "source": [
    "Задание 2."
   ]
  },
  {
   "cell_type": "code",
   "execution_count": 16,
   "id": "97b05d3f",
   "metadata": {},
   "outputs": [
    {
     "name": "stdout",
     "output_type": "stream",
     "text": [
      "Введите начальную дату (YYYY-MM-DD): 2023-01-09\n",
      "Введите конечную дату (YYYY-MM-DD): 2023-01-11\n",
      "Список дат за период:\n",
      "2023-01-09\n",
      "2023-01-10\n",
      "2023-01-11\n"
     ]
    }
   ],
   "source": [
    "from datetime import datetime, timedelta\n",
    "\n",
    "def date_range(start_date_str, end_date_str):\n",
    "    try:\n",
    "        start_date = datetime.strptime(start_date_str, \"%Y-%m-%d\")\n",
    "        end_date = datetime.strptime(end_date_str, \"%Y-%m-%d\")\n",
    "\n",
    "\n",
    "        if start_date > end_date:\n",
    "            print(\"Ошибка: start_date должна быть меньше или равна end_date.\")\n",
    "            return []\n",
    "\n",
    "        current_date = start_date\n",
    "        date_list = []\n",
    "        while current_date <= end_date:\n",
    "            date_list.append(current_date)\n",
    "            current_date += timedelta(days=1)\n",
    "\n",
    "        return date_list\n",
    "\n",
    "    except ValueError:\n",
    "        print(\"Ошибка: Неверный формат даты. Используйте формат YYYY-MM-DD.\")\n",
    "        return []\n",
    "\n",
    "start_date_input = input(\"Введите начальную дату (YYYY-MM-DD): \")\n",
    "end_date_input = input(\"Введите конечную дату (YYYY-MM-DD): \")\n",
    "\n",
    "result = date_range(start_date_input, end_date_input)\n",
    "\n",
    "if result:\n",
    "    print(\"Список дат за период:\")\n",
    "    for date in result:\n",
    "        print(date.strftime(\"%Y-%m-%d\"))\n",
    "else:\n",
    "    print(\"Возникла ошибка. Пожалуйста, проверьте введенные данные.\")"
   ]
  }
 ],
 "metadata": {
  "kernelspec": {
   "display_name": "Python 3 (ipykernel)",
   "language": "python",
   "name": "python3"
  },
  "language_info": {
   "codemirror_mode": {
    "name": "ipython",
    "version": 3
   },
   "file_extension": ".py",
   "mimetype": "text/x-python",
   "name": "python",
   "nbconvert_exporter": "python",
   "pygments_lexer": "ipython3",
   "version": "3.11.5"
  }
 },
 "nbformat": 4,
 "nbformat_minor": 5
}
